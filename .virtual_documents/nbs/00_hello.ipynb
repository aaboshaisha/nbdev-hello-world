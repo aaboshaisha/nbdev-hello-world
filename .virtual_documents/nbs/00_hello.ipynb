


#| default_exp hello


#| hide
from nbdev.showdoc import *


#| export
def say_hello(to):
    "Say hello to somebody"
    return f"Hello {to}!"


say_hello('Salma')


#| export
def say_goodbye(to):
    "Say goodbye to somebody"
    return f"Goodbye {to}"


say_goodbye('Menna')


#| export
class Person:
    "A dummy class to test."
    def __init__(self, name: str, age: int): self.name, self.age = name, age
    def __str__(self): return f'Name: {self.name}, Age:{self.age}'
    __repr__ = __str__


p = Person('Salma', 3)
p


show_doc(Person)





#| export
class Person2:
    "A dummy class to test."
    def __init__(self, 
                 name: str, # a person's name 
                 age: int): # a person's age
        self.name, self.age = name, age
    def __str__(self): return f'Name: {self.name}, Age:{self.age}'
    __repr__ = __str__


Person2('Menna', 38)


show_doc(Person2)





show_doc?


# or see source code
say_hello??





#| export
from fastcore.utils import *





#| export
@patch
def __eq__(self: Person, other:Person): return (self.name, self.age) == (other.name, other.age)


Person('Salma', 3) == Person('Salma', 3)


Person('Salma', 3) == Person('Salma', 4)








#| export
@patch
def __lt__(self: Person, other: Person): return (self.name, self.age) < (other.name, other.age)


assert Person('Salma', 3) < Person('Salma', 4)


#| export
@patch
def __gt__(self: Person, other: Person): return (self.name, self.age) > (other.name, other.age)


assert Person('Salma', 3) > Person('Aya', 3)


#| hide
import nbdev; nbdev.nbdev_export()



