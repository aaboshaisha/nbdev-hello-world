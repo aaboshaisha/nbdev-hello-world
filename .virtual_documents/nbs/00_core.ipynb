


#| default_exp hello


#| hide
from nbdev.showdoc import *


#| export
def foo(): pass


#| hide
import nbdev; nbdev.nbdev_export()



