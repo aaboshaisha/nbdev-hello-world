#| hide
from nbdev_hello_world.hello import *




















say_hello('Salma')


say_goodbye('Menna')


p = Person('Jane', 33)


p
